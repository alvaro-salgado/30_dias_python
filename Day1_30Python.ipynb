{
  "nbformat": 4,
  "nbformat_minor": 0,
  "metadata": {
    "colab": {
      "provenance": [],
      "authorship_tag": "ABX9TyMC4Eln5WH/5XVvBl4wPnFl",
      "include_colab_link": true
    },
    "kernelspec": {
      "name": "python3",
      "display_name": "Python 3"
    },
    "language_info": {
      "name": "python"
    }
  },
  "cells": [
    {
      "cell_type": "markdown",
      "metadata": {
        "id": "view-in-github",
        "colab_type": "text"
      },
      "source": [
        "<a href=\"https://colab.research.google.com/github/alvaro-salgado/30_dias_python/blob/main/Day1_30Python.ipynb\" target=\"_parent\"><img src=\"https://colab.research.google.com/assets/colab-badge.svg\" alt=\"Open In Colab\"/></a>"
      ]
    },
    {
      "cell_type": "markdown",
      "source": [
        "# Introducción\n"
      ],
      "metadata": {
        "id": "37ymdQwaEXwc"
      }
    },
    {
      "cell_type": "code",
      "execution_count": 2,
      "metadata": {
        "colab": {
          "base_uri": "https://localhost:8080/"
        },
        "id": "2B-t8YC2EQep",
        "outputId": "0a6f6e13-db47-4cb2-e881-9f381df23ae5"
      },
      "outputs": [
        {
          "output_type": "stream",
          "name": "stdout",
          "text": [
            "5\n",
            "-1\n",
            "6\n",
            "0.6666666666666666\n",
            "8\n",
            "0\n",
            "2\n"
          ]
        }
      ],
      "source": [
        "# 30 días de Python\n",
        "\n",
        "# Operaciones\n",
        "print(2+3) # Suma\n",
        "print(2-3)  # Resta\n",
        "print(2*3) # Multiplicación\n",
        "print(2/3) # División\n",
        "print(2**3) # Exponente\n",
        "print(2//3) # División entera (floor)\n",
        "print(2%3) # Modulo"
      ]
    },
    {
      "cell_type": "markdown",
      "source": [
        "Tipos de datos"
      ],
      "metadata": {
        "id": "dPbghlkGE1Gs"
      }
    },
    {
      "cell_type": "code",
      "source": [
        "print(type(10))                  # Int (entero)\n",
        "print(type(3.14))                # Float (flotante)\n",
        "print(type(1 + 3j))              # Complex (complejo)\n",
        "print(type('Asabeneh'))          # String (cadena de texto)\n",
        "print(type([1, 2, 3]))           # List (lista)\n",
        "print(type({'name':'Asabeneh'})) # Dictionary (diccionario)\n",
        "print(type({9.8, 3.14, 2.7}))    # Set\n",
        "print(type((9.8, 3.14, 2.7)))    # Tuple (tupla)"
      ],
      "metadata": {
        "colab": {
          "base_uri": "https://localhost:8080/"
        },
        "id": "U-2YEcG5E3wK",
        "outputId": "56ae9eb8-7a80-47bd-b4ac-873325d9fb63"
      },
      "execution_count": 3,
      "outputs": [
        {
          "output_type": "stream",
          "name": "stdout",
          "text": [
            "<class 'int'>\n",
            "<class 'float'>\n",
            "<class 'complex'>\n",
            "<class 'str'>\n",
            "<class 'list'>\n",
            "<class 'dict'>\n",
            "<class 'set'>\n",
            "<class 'tuple'>\n"
          ]
        }
      ]
    },
    {
      "cell_type": "markdown",
      "source": [
        "Ejercicio: Nivel 3\n",
        "1. Encuentra la distancia euclidiana entre (2,3) y (10,8)\n",
        "\n",
        "La distancia euclidiana está dada por\n",
        "\n",
        "\\[ d(A, B) = \\sqrt{(a_1 - b_1)^2 + (a_2 - b_2)^2 + \\cdots + (a_n - b_n)^2} \\]\n",
        "\n",
        "\n"
      ],
      "metadata": {
        "id": "7GUk6MM4GT0l"
      }
    },
    {
      "cell_type": "code",
      "source": [
        "#\n",
        "\n",
        "A = (2,3)\n",
        "B = (10,8)\n",
        "distancia = ((A[0] - B[0])**2 + (A[1] - B[1])**2)**0.5\n",
        "print(distancia)"
      ],
      "metadata": {
        "colab": {
          "base_uri": "https://localhost:8080/"
        },
        "id": "wQ6Zy6ORG3qO",
        "outputId": "0529d89f-9022-4847-84fd-8f3cc128d472"
      },
      "execution_count": 5,
      "outputs": [
        {
          "output_type": "stream",
          "name": "stdout",
          "text": [
            "9.433981132056603\n"
          ]
        }
      ]
    }
  ]
}